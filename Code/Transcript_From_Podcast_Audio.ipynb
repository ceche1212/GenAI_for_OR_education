{
  "nbformat": 4,
  "nbformat_minor": 0,
  "metadata": {
    "colab": {
      "provenance": []
    },
    "kernelspec": {
      "name": "python3",
      "display_name": "Python 3"
    },
    "language_info": {
      "name": "python"
    }
  },
  "cells": [
    {
      "cell_type": "markdown",
      "source": [
        "# Libraries"
      ],
      "metadata": {
        "id": "az3p0aFojsm0"
      }
    },
    {
      "cell_type": "code",
      "execution_count": 1,
      "metadata": {
        "id": "lmOdN9gWabWA"
      },
      "outputs": [],
      "source": [
        "!pip -q install --upgrade openai python-dotenv"
      ]
    },
    {
      "cell_type": "code",
      "source": [
        "import os, getpass, json, io, math, json, tempfile\n",
        "from openai import OpenAI\n",
        "from google.colab import userdata\n",
        "from google.colab import files\n",
        "from pydub import AudioSegment\n",
        "from datetime import timedelta"
      ],
      "metadata": {
        "id": "J5hmFKPXdME1"
      },
      "execution_count": 20,
      "outputs": []
    },
    {
      "cell_type": "markdown",
      "source": [
        "# OpenAI key"
      ],
      "metadata": {
        "id": "2ONBt8C7juRm"
      }
    },
    {
      "cell_type": "code",
      "source": [
        "open_ai_key = userdata.get('open_ai_key')"
      ],
      "metadata": {
        "id": "phuSLSyAdSCL"
      },
      "execution_count": 4,
      "outputs": []
    },
    {
      "cell_type": "code",
      "source": [
        "# Your key is already in a variable called `open_ai_key`\n",
        "os.environ[\"OPENAI_API_KEY\"] = open_ai_key\n",
        "client = OpenAI()"
      ],
      "metadata": {
        "id": "1XsiftFBeO8O"
      },
      "execution_count": 6,
      "outputs": []
    },
    {
      "cell_type": "markdown",
      "source": [
        "# Import audio file"
      ],
      "metadata": {
        "id": "K-cr1nsVjw6N"
      }
    },
    {
      "cell_type": "code",
      "source": [
        "# ==== 2) Upload your .m4a file ====\n",
        "print(\"Upload your .m4a file…\")\n",
        "uploaded = files.upload()\n",
        "assert uploaded, \"No file uploaded.\"\n",
        "audio_path = list(uploaded.keys())[0]\n",
        "audio_path"
      ],
      "metadata": {
        "colab": {
          "base_uri": "https://localhost:8080/",
          "height": 110
        },
        "id": "ilRW-dlYeVjd",
        "outputId": "17ce56ed-86e1-42ec-bac0-ed697aa6a88c"
      },
      "execution_count": 8,
      "outputs": [
        {
          "output_type": "stream",
          "name": "stdout",
          "text": [
            "Upload your .m4a file…\n"
          ]
        },
        {
          "output_type": "display_data",
          "data": {
            "text/plain": [
              "<IPython.core.display.HTML object>"
            ],
            "text/html": [
              "\n",
              "     <input type=\"file\" id=\"files-82f804ac-fe58-47ae-bcf8-f7bcc9439083\" name=\"files[]\" multiple disabled\n",
              "        style=\"border:none\" />\n",
              "     <output id=\"result-82f804ac-fe58-47ae-bcf8-f7bcc9439083\">\n",
              "      Upload widget is only available when the cell has been executed in the\n",
              "      current browser session. Please rerun this cell to enable.\n",
              "      </output>\n",
              "      <script>// Copyright 2017 Google LLC\n",
              "//\n",
              "// Licensed under the Apache License, Version 2.0 (the \"License\");\n",
              "// you may not use this file except in compliance with the License.\n",
              "// You may obtain a copy of the License at\n",
              "//\n",
              "//      http://www.apache.org/licenses/LICENSE-2.0\n",
              "//\n",
              "// Unless required by applicable law or agreed to in writing, software\n",
              "// distributed under the License is distributed on an \"AS IS\" BASIS,\n",
              "// WITHOUT WARRANTIES OR CONDITIONS OF ANY KIND, either express or implied.\n",
              "// See the License for the specific language governing permissions and\n",
              "// limitations under the License.\n",
              "\n",
              "/**\n",
              " * @fileoverview Helpers for google.colab Python module.\n",
              " */\n",
              "(function(scope) {\n",
              "function span(text, styleAttributes = {}) {\n",
              "  const element = document.createElement('span');\n",
              "  element.textContent = text;\n",
              "  for (const key of Object.keys(styleAttributes)) {\n",
              "    element.style[key] = styleAttributes[key];\n",
              "  }\n",
              "  return element;\n",
              "}\n",
              "\n",
              "// Max number of bytes which will be uploaded at a time.\n",
              "const MAX_PAYLOAD_SIZE = 100 * 1024;\n",
              "\n",
              "function _uploadFiles(inputId, outputId) {\n",
              "  const steps = uploadFilesStep(inputId, outputId);\n",
              "  const outputElement = document.getElementById(outputId);\n",
              "  // Cache steps on the outputElement to make it available for the next call\n",
              "  // to uploadFilesContinue from Python.\n",
              "  outputElement.steps = steps;\n",
              "\n",
              "  return _uploadFilesContinue(outputId);\n",
              "}\n",
              "\n",
              "// This is roughly an async generator (not supported in the browser yet),\n",
              "// where there are multiple asynchronous steps and the Python side is going\n",
              "// to poll for completion of each step.\n",
              "// This uses a Promise to block the python side on completion of each step,\n",
              "// then passes the result of the previous step as the input to the next step.\n",
              "function _uploadFilesContinue(outputId) {\n",
              "  const outputElement = document.getElementById(outputId);\n",
              "  const steps = outputElement.steps;\n",
              "\n",
              "  const next = steps.next(outputElement.lastPromiseValue);\n",
              "  return Promise.resolve(next.value.promise).then((value) => {\n",
              "    // Cache the last promise value to make it available to the next\n",
              "    // step of the generator.\n",
              "    outputElement.lastPromiseValue = value;\n",
              "    return next.value.response;\n",
              "  });\n",
              "}\n",
              "\n",
              "/**\n",
              " * Generator function which is called between each async step of the upload\n",
              " * process.\n",
              " * @param {string} inputId Element ID of the input file picker element.\n",
              " * @param {string} outputId Element ID of the output display.\n",
              " * @return {!Iterable<!Object>} Iterable of next steps.\n",
              " */\n",
              "function* uploadFilesStep(inputId, outputId) {\n",
              "  const inputElement = document.getElementById(inputId);\n",
              "  inputElement.disabled = false;\n",
              "\n",
              "  const outputElement = document.getElementById(outputId);\n",
              "  outputElement.innerHTML = '';\n",
              "\n",
              "  const pickedPromise = new Promise((resolve) => {\n",
              "    inputElement.addEventListener('change', (e) => {\n",
              "      resolve(e.target.files);\n",
              "    });\n",
              "  });\n",
              "\n",
              "  const cancel = document.createElement('button');\n",
              "  inputElement.parentElement.appendChild(cancel);\n",
              "  cancel.textContent = 'Cancel upload';\n",
              "  const cancelPromise = new Promise((resolve) => {\n",
              "    cancel.onclick = () => {\n",
              "      resolve(null);\n",
              "    };\n",
              "  });\n",
              "\n",
              "  // Wait for the user to pick the files.\n",
              "  const files = yield {\n",
              "    promise: Promise.race([pickedPromise, cancelPromise]),\n",
              "    response: {\n",
              "      action: 'starting',\n",
              "    }\n",
              "  };\n",
              "\n",
              "  cancel.remove();\n",
              "\n",
              "  // Disable the input element since further picks are not allowed.\n",
              "  inputElement.disabled = true;\n",
              "\n",
              "  if (!files) {\n",
              "    return {\n",
              "      response: {\n",
              "        action: 'complete',\n",
              "      }\n",
              "    };\n",
              "  }\n",
              "\n",
              "  for (const file of files) {\n",
              "    const li = document.createElement('li');\n",
              "    li.append(span(file.name, {fontWeight: 'bold'}));\n",
              "    li.append(span(\n",
              "        `(${file.type || 'n/a'}) - ${file.size} bytes, ` +\n",
              "        `last modified: ${\n",
              "            file.lastModifiedDate ? file.lastModifiedDate.toLocaleDateString() :\n",
              "                                    'n/a'} - `));\n",
              "    const percent = span('0% done');\n",
              "    li.appendChild(percent);\n",
              "\n",
              "    outputElement.appendChild(li);\n",
              "\n",
              "    const fileDataPromise = new Promise((resolve) => {\n",
              "      const reader = new FileReader();\n",
              "      reader.onload = (e) => {\n",
              "        resolve(e.target.result);\n",
              "      };\n",
              "      reader.readAsArrayBuffer(file);\n",
              "    });\n",
              "    // Wait for the data to be ready.\n",
              "    let fileData = yield {\n",
              "      promise: fileDataPromise,\n",
              "      response: {\n",
              "        action: 'continue',\n",
              "      }\n",
              "    };\n",
              "\n",
              "    // Use a chunked sending to avoid message size limits. See b/62115660.\n",
              "    let position = 0;\n",
              "    do {\n",
              "      const length = Math.min(fileData.byteLength - position, MAX_PAYLOAD_SIZE);\n",
              "      const chunk = new Uint8Array(fileData, position, length);\n",
              "      position += length;\n",
              "\n",
              "      const base64 = btoa(String.fromCharCode.apply(null, chunk));\n",
              "      yield {\n",
              "        response: {\n",
              "          action: 'append',\n",
              "          file: file.name,\n",
              "          data: base64,\n",
              "        },\n",
              "      };\n",
              "\n",
              "      let percentDone = fileData.byteLength === 0 ?\n",
              "          100 :\n",
              "          Math.round((position / fileData.byteLength) * 100);\n",
              "      percent.textContent = `${percentDone}% done`;\n",
              "\n",
              "    } while (position < fileData.byteLength);\n",
              "  }\n",
              "\n",
              "  // All done.\n",
              "  yield {\n",
              "    response: {\n",
              "      action: 'complete',\n",
              "    }\n",
              "  };\n",
              "}\n",
              "\n",
              "scope.google = scope.google || {};\n",
              "scope.google.colab = scope.google.colab || {};\n",
              "scope.google.colab._files = {\n",
              "  _uploadFiles,\n",
              "  _uploadFilesContinue,\n",
              "};\n",
              "})(self);\n",
              "</script> "
            ]
          },
          "metadata": {}
        },
        {
          "output_type": "stream",
          "name": "stdout",
          "text": [
            "Saving Order_Batching_Warehousing_podcast_notebook_LM.m4a to Order_Batching_Warehousing_podcast_notebook_LM.m4a\n"
          ]
        },
        {
          "output_type": "execute_result",
          "data": {
            "text/plain": [
              "'Order_Batching_Warehousing_podcast_notebook_LM.m4a'"
            ],
            "application/vnd.google.colaboratory.intrinsic+json": {
              "type": "string"
            }
          },
          "metadata": {},
          "execution_count": 8
        }
      ]
    },
    {
      "cell_type": "markdown",
      "source": [
        "# SRT transript"
      ],
      "metadata": {
        "id": "mwazsEKHjmVW"
      }
    },
    {
      "cell_type": "code",
      "source": [
        "# Parameters you can tweak\n",
        "CHUNK_MINUTES = 5           # chunk size\n",
        "TARGET_FRAME_RATE = 16000    # 16 kHz\n",
        "TARGET_BITRATE = \"64k\"       # MP3 bitrate to keep chunks small\n",
        "MONO_CHANNELS = 1\n",
        "CHUNK_OVERLAP_MS = 500       # small overlap to avoid cutting words at boundaries\n",
        "\n",
        "# Load original audio (any common format, including m4a)\n",
        "original = AudioSegment.from_file(audio_path)\n",
        "duration_ms = len(original)\n",
        "\n",
        "chunk_len_ms = CHUNK_MINUTES * 60 * 1000\n",
        "chunks_meta = []  # will store {start_ms, end_ms, path}\n",
        "\n",
        "start_ms = 0\n",
        "i = 0\n",
        "while start_ms < duration_ms:\n",
        "    end_ms = min(start_ms + chunk_len_ms, duration_ms)\n",
        "    # Add slight overlap (except for the very first chunk)\n",
        "    cut_start = max(0, start_ms - CHUNK_OVERLAP_MS if i > 0 else start_ms)\n",
        "    cut_end   = end_ms\n",
        "\n",
        "    piece = original[cut_start:cut_end]\n",
        "    piece = piece.set_channels(MONO_CHANNELS).set_frame_rate(TARGET_FRAME_RATE)\n",
        "\n",
        "    tmp_name = f\"chunk_{i:03d}.mp3\"\n",
        "    piece.export(tmp_name, format=\"mp3\", bitrate=TARGET_BITRATE)\n",
        "\n",
        "    chunks_meta.append({\n",
        "        \"index\": i,\n",
        "        \"start_ms\": cut_start,   # actual audio cut start we exported\n",
        "        \"end_ms\": cut_end,\n",
        "        \"nominal_start_ms\": start_ms,  # the intended chunk start (no overlap)\n",
        "        \"path\": tmp_name\n",
        "    })\n",
        "\n",
        "    i += 1\n",
        "    start_ms = end_ms  # advance without overlap (we added overlap in the exported cut)\n",
        "\n",
        "print(f\"Created {len(chunks_meta)} chunk(s).\")"
      ],
      "metadata": {
        "colab": {
          "base_uri": "https://localhost:8080/"
        },
        "id": "rw0Wp_VYhWs2",
        "outputId": "527859bb-38bd-4ee7-a045-d750fcf3de66"
      },
      "execution_count": 22,
      "outputs": [
        {
          "output_type": "stream",
          "name": "stdout",
          "text": [
            "Created 3 chunk(s).\n"
          ]
        }
      ]
    },
    {
      "cell_type": "code",
      "source": [
        "# --- 4) Transcribe each chunk with timestamps (whisper-1, verbose_json) ---\n",
        "\n",
        "def srt_timestamp(seconds: float) -> str:\n",
        "    ms = int(round(seconds * 1000))\n",
        "    hrs = ms // 3_600_000; ms %= 3_600_000\n",
        "    mins = ms // 60_000;   ms %= 60_000\n",
        "    secs = ms // 1_000;    ms %= 1_000\n",
        "    return f\"{hrs:02}:{mins:02}:{secs:02},{ms:03}\"\n",
        "\n",
        "def safe_get(obj, name, default=None):\n",
        "    # Works for Pydantic objects and dicts\n",
        "    if hasattr(obj, name):\n",
        "        return getattr(obj, name)\n",
        "    if isinstance(obj, dict):\n",
        "        return obj.get(name, default)\n",
        "    return default"
      ],
      "metadata": {
        "id": "CI0O49R-hz7G"
      },
      "execution_count": 25,
      "outputs": []
    },
    {
      "cell_type": "code",
      "source": [
        "all_segments = []\n",
        "\n",
        "for meta in chunks_meta:\n",
        "    # Transcribe the chunk\n",
        "    with open(meta[\"path\"], \"rb\") as f:\n",
        "        resp = client.audio.transcriptions.create(\n",
        "            model=\"whisper-1\",\n",
        "            file=f,\n",
        "            response_format=\"verbose_json\",  # required for segments\n",
        "            temperature=0.0,\n",
        "        )\n",
        "\n",
        "    # Try to get segments regardless of SDK shape\n",
        "    segments = getattr(resp, \"segments\", None)\n",
        "    if segments is None:\n",
        "        try:\n",
        "            # Some SDK versions support model_dump() to get a dict\n",
        "            segments = resp.model_dump().get(\"segments\", [])\n",
        "        except Exception:\n",
        "            segments = []\n",
        "\n",
        "    global_offset_sec = meta[\"nominal_start_ms\"] / 1000.0\n",
        "\n",
        "    for seg in segments or []:\n",
        "        start_sec = float(safe_get(seg, \"start\", 0.0)) + global_offset_sec\n",
        "        end_sec   = float(safe_get(seg, \"end\", 0.0)) + global_offset_sec\n",
        "        text      = (safe_get(seg, \"text\", \"\") or \"\").strip()\n",
        "\n",
        "        if not text or end_sec <= start_sec:\n",
        "            continue\n",
        "\n",
        "        all_segments.append({\"start\": start_sec, \"end\": end_sec, \"text\": text})\n",
        "\n",
        "print(f\"Collected {len(all_segments)} segments across all chunks.\")"
      ],
      "metadata": {
        "colab": {
          "base_uri": "https://localhost:8080/"
        },
        "id": "RstIz7mih4s2",
        "outputId": "6b87cb9f-a0d9-45ba-eefa-b5c4ff31ec53"
      },
      "execution_count": 26,
      "outputs": [
        {
          "output_type": "stream",
          "name": "stdout",
          "text": [
            "Collected 342 segments across all chunks.\n"
          ]
        }
      ]
    },
    {
      "cell_type": "code",
      "source": [
        "# Sort by global start time\n",
        "all_segments.sort(key=lambda x: (x[\"start\"], x[\"end\"]))\n",
        "\n",
        "merged_segments = []\n",
        "last_end = -1.0\n",
        "TOL = 0.25  # seconds tolerance to skip near-duplicate due to overlap\n",
        "\n",
        "for seg in all_segments:\n",
        "    if seg[\"start\"] < last_end - TOL and merged_segments:\n",
        "        # Likely duplicate from overlap; skip it\n",
        "        continue\n",
        "    merged_segments.append(seg)\n",
        "    last_end = seg[\"end\"]\n",
        "\n",
        "print(f\"Merged into {len(merged_segments)} SRT segments after de-dup.\")"
      ],
      "metadata": {
        "colab": {
          "base_uri": "https://localhost:8080/"
        },
        "id": "vGdTOy0yiiyl",
        "outputId": "2ae8ff3d-1e66-4bf4-d2ef-0faefd5ca98f"
      },
      "execution_count": 27,
      "outputs": [
        {
          "output_type": "stream",
          "name": "stdout",
          "text": [
            "Merged into 341 SRT segments after de-dup.\n"
          ]
        }
      ]
    },
    {
      "cell_type": "code",
      "source": [
        "srt_lines = []\n",
        "for i, seg in enumerate(merged_segments, start=1):\n",
        "    start_ts = srt_timestamp(seg[\"start\"])\n",
        "    end_ts   = srt_timestamp(seg[\"end\"])\n",
        "    text     = seg[\"text\"]\n",
        "    srt_lines.append(f\"{i}\")\n",
        "    srt_lines.append(f\"{start_ts} --> {end_ts}\")\n",
        "    srt_lines.append(text)\n",
        "    srt_lines.append(\"\")  # blank line between cues\n",
        "\n",
        "srt_text = \"\\n\".join(srt_lines)\n",
        "\n",
        "out_srt = \"transcript.srt\"\n",
        "with open(out_srt, \"w\", encoding=\"utf-8\") as f:\n",
        "    f.write(srt_text)"
      ],
      "metadata": {
        "id": "kuP5wxYximlF"
      },
      "execution_count": 28,
      "outputs": []
    },
    {
      "cell_type": "markdown",
      "source": [
        "# Simple text transcript"
      ],
      "metadata": {
        "id": "AFG1fp-rjioP"
      }
    },
    {
      "cell_type": "code",
      "source": [
        "audio = AudioSegment.from_file(audio_path)\n",
        "\n",
        "# Split into 10-minute chunks (600,000 ms)\n",
        "CHUNK_MINUTES = 5\n",
        "chunk_length_ms = CHUNK_MINUTES * 60 * 1000\n",
        "chunks = [audio[i:i + chunk_length_ms] for i in range(0, len(audio), chunk_length_ms)]\n",
        "\n",
        "# Export each chunk\n",
        "chunk_files = []\n",
        "for i, chunk in enumerate(chunks):\n",
        "    filename = f\"chunk_{i}.mp3\"\n",
        "    chunk.export(filename, format=\"mp3\")\n",
        "    chunk_files.append(filename)\n",
        "\n",
        "print(f\"Created {len(chunk_files)} chunks.\")"
      ],
      "metadata": {
        "colab": {
          "base_uri": "https://localhost:8080/"
        },
        "id": "IVGkoN37fDod",
        "outputId": "1b482157-2b1a-4b67-8776-d6559f77cc41"
      },
      "execution_count": 30,
      "outputs": [
        {
          "output_type": "stream",
          "name": "stdout",
          "text": [
            "Created 3 chunks.\n"
          ]
        }
      ]
    },
    {
      "cell_type": "code",
      "source": [
        "all_text = []\n",
        "for f in chunk_files:\n",
        "    resp = client.audio.transcriptions.create(\n",
        "        model=\"whisper-1\",  # or \"whisper-1\"\n",
        "        file=open(f, \"rb\"),\n",
        "    )\n",
        "    all_text.append(resp.text)\n",
        "\n",
        "final_transcript = \"\\n\".join(all_text)"
      ],
      "metadata": {
        "id": "_2Vn6bijegH9"
      },
      "execution_count": 31,
      "outputs": []
    },
    {
      "cell_type": "code",
      "source": [
        "with open(\"transcript.txt\", \"w\", encoding=\"utf-8\") as f:\n",
        "    f.write(final_transcript)"
      ],
      "metadata": {
        "id": "ISwn389mgnAN"
      },
      "execution_count": 32,
      "outputs": []
    }
  ]
}